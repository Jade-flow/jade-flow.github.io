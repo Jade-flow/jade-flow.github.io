{
  "nbformat": 4,
  "nbformat_minor": 2,
  "metadata": {
    "colab": {
      "name": "sort_selection_insertion.ipynb",
      "provenance": [],
      "collapsed_sections": []
    },
    "kernelspec": {
      "name": "python3",
      "display_name": "Python 3"
    },
    "language_info": {
      "name": "python"
    }
  },
  "cells": [
    {
      "cell_type": "markdown",
      "source": [
        "# Sort a collection of values\n",
        "\n",
        "Text pages 342-345\n",
        "\n",
        "values = [ 2, 9, 5, 4, 1, 6 ]\n",
        "\n",
        "sorted = [ 1, 2, 4, 5, 6, 9 ]\n"
      ],
      "metadata": {
        "id": "6ohvL74OdfJK"
      }
    },
    {
      "cell_type": "markdown",
      "source": [
        "# 1. Selection Sort\r\n",
        "\r\n",
        "Repeat finding the smallest element and swapping it with the first element of the current slice, until only one element remains in the slice. The final list is sorted.\r\n",
        "\r\n",
        "The animation cell contains a code chunk at the bottom of the anmiation, which is the `selectionSort` function. The function does the following:\r\n",
        "\r\n",
        "1. Take a list `lst` as argument\r\n",
        "2. Loop over the range of indexes (`range(len(lst)-1`), \r\n",
        "3. In each iteration :\r\n",
        "    - Get the iterator: `i`\r\n",
        "    - Get the slice: `lst[i: ]`\r\n",
        "    - stage 1: find the smallest one `currentMin` in the current slice `lst[i: ]` by using the `min` function, as well as its index `currentMinIndex`\r\n",
        "    - stage 2: if `currentMinIndex != i`, swap `lst[currentMinIndex]` and the ith element `lst[i]`. \r\n",
        "\r\n",
        "\r\n",
        "Thus, there is a nested loop underlying the sort. The inner loop is hidden in the `min` function which finds the smallest element. The outer loop is visible in the `for` loop. \r\n",
        "\r\n",
        "> Thus, `selection sort` has an $O(n^2)$ time complexity, which makes it inefficient on large lists, and generally performs worse than the similar `insertion sort`.\r\n",
        "\r\n",
        "Do the following step-by-step selection sort of a list of five integers in the animation cell.   "
      ],
      "metadata": {
        "id": "sIF1ey7yIpYR"
      }
    },
    {
      "cell_type": "code",
      "execution_count": 2,
      "source": [
        "%%html\r\n",
        "<iframe src=\"https://liveexample.pearsoncmg.com/dsanimation/SelectionSortWithPy.html\" width=\"800\" height=\"400\"></iframe>"
      ],
      "outputs": [
        {
          "output_type": "display_data",
          "data": {
            "text/html": [
              "<iframe src=\"https://liveexample.pearsoncmg.com/dsanimation/SelectionSortWithPy.html\" width=\"800\" height=\"400\"></iframe>"
            ],
            "text/plain": [
              "<IPython.core.display.HTML object>"
            ]
          },
          "metadata": {}
        }
      ],
      "metadata": {
        "colab": {
          "base_uri": "https://localhost:8080/",
          "height": 425
        },
        "id": "TFDbTTdeIoLJ",
        "outputId": "c5af034a-c0c2-4ddf-d66b-55c2e0c32bc1"
      }
    },
    {
      "cell_type": "markdown",
      "source": [
        "## Question 1\n",
        "\n",
        "Page 345 10.24: Modify the selectionSort function in Listing 10.11 to sort elements in descreasing order. "
      ],
      "metadata": {
        "id": "BCct0Sk3QiSh"
      }
    },
    {
      "cell_type": "markdown",
      "source": [
        "# 2. Insertion Sort\n",
        "\n",
        "As indicated by its name, insertion sort keeps inserting a new element `list[i]` into a sorted sublist `list[0:i-1]` so that `list[0:i]` is sorted. \n",
        "\n",
        "1. Given a list `L`, \n",
        "2. Do __outer loop__ with an integer range `range(1, len(L))`. With each index i, \n",
        "    - get a slice `L[0:i-1]`\n",
        "    - make a new variable __current__ as a copy of `L[i]`\n",
        "    - __inner loop__ (_insert current into slice_): \n",
        "      - Reversely scan the slice from last to first element; With the iterator __k__, \n",
        "      - IF k is zero or positive and __current__ is less than __L[k]__, move __L[k]__ to next position __k+1__; \n",
        "      - ELSE: break out of the loop \n",
        "      - Insert __current__ to the position __k+1__ \n",
        "\n",
        "\n",
        "With the nested loop, the average time complexity of Insertion Sort is $O(n^2)$, also quadratic as Selection Sort. This makes insertion sort impractical for sorting large arrays. However, insertion sort is one of the fastest algorithms for sorting very small arrays.\n",
        "\n",
        "Do the following step-by-step animation.       "
      ],
      "metadata": {
        "id": "6bnjretdInhb"
      }
    },
    {
      "cell_type": "code",
      "execution_count": 4,
      "source": [
        "%%html\r\n",
        "<iframe src=\"https://liveexample.pearsoncmg.com/dsanimation13ejava/InsertionSortWithPy.html\" width=\"800\" height=\"400\"></iframe>"
      ],
      "outputs": [
        {
          "output_type": "display_data",
          "data": {
            "text/html": [
              "<iframe src=\"https://liveexample.pearsoncmg.com/dsanimation13ejava/InsertionSortWithPy.html\" width=\"800\" height=\"400\"></iframe>"
            ],
            "text/plain": [
              "<IPython.core.display.HTML object>"
            ]
          },
          "metadata": {}
        }
      ],
      "metadata": {
        "colab": {
          "base_uri": "https://localhost:8080/",
          "height": 425
        },
        "id": "eYHcLLN0QgSa",
        "outputId": "d052663f-cd1d-4c28-8cbb-c496405068be"
      }
    },
    {
      "cell_type": "markdown",
      "source": [
        "## Question 2\n",
        "\n",
        "Text page 345 10.25\n",
        "\n",
        "Modify the insertionSort function in Listing 10.12 to sort elements in decreasing order."
      ],
      "metadata": {
        "id": "zg-PlKI8cHgC"
      }
    },
    {
      "cell_type": "markdown",
      "source": [
        "## Question 3\r\n",
        "\r\n",
        "Text page 354 \r\n",
        "\r\n",
        "10.26 Merge two sorted lists\r\n",
        "\r\n",
        "Reference: https://liveexample.pearsoncmg.com/dsanimation13ejava/MergeSorteBook.html "
      ],
      "metadata": {
        "id": "gdD0l-vEcaMB"
      }
    },
    {
      "cell_type": "markdown",
      "source": [
        "## Question 4\r\n",
        "\r\n",
        "Text page 355\r\n",
        "\r\n",
        "10.28 Partition of a list (See the page for the question). \r\n",
        "\r\n",
        "Input: \r\n",
        "1. a list = [5, 2, 9, 3, 6, 8], \r\n",
        "2. a pivot is set to the first element which is 5.\r\n",
        "\r\n",
        "Output: [3, 2, 5, 9, 6, 8] so that \r\n",
        "1. all the elements to the left of pivot 5 is less than or equal to 5, and \r\n",
        "2. all the ones to the right of pivot is greater than 5."
      ],
      "metadata": {}
    }
  ]
}